{
 "cells": [
  {
   "cell_type": "markdown",
   "id": "305f8738",
   "metadata": {},
   "source": [
    "# $\\text{Affine Linear Function}\\;g_1$"
   ]
  },
  {
   "cell_type": "code",
   "execution_count": null,
   "id": "c333c05b",
   "metadata": {},
   "outputs": [],
   "source": [
    "from kbsa.kbsa_main import run_kbsa, get_kbsa_datafile_name\n",
    "import numpy as np"
   ]
  },
  {
   "cell_type": "markdown",
   "id": "44fd8d25",
   "metadata": {},
   "source": [
    "#### Define parameters"
   ]
  },
  {
   "cell_type": "code",
   "execution_count": null,
   "id": "d273617c",
   "metadata": {},
   "outputs": [],
   "source": [
    "models_list = ['linearDecr_1']\n",
    "\n",
    "kernel_types_list = ['sobolev', 'exponential']\n",
    "h = 128\n",
    "model_params_dict = {'linearDecr_1': \n",
    "                        {'g_ineq_c': 3.75,\n",
    "                        'meshInterval': h},}\n",
    "x_domains_dict = {'linearDecr_1': np.array([[0.25,0.75]])}\n",
    "u_domains_dict = {'linearDecr_1': np.array([[0,1],[0,1],[0,1]])}\n",
    "num_of_trials = 20\n",
    "hsic_types_dict = {'unbiased': False, 'biased': False, 'R2': False, 'fellman': True}\n",
    "N_list_list = [[100, 1000, 10000]]"
   ]
  },
  {
   "cell_type": "markdown",
   "id": "dd2d8842",
   "metadata": {},
   "source": [
    "#### Run experiment"
   ]
  },
  {
   "cell_type": "code",
   "execution_count": null,
   "id": "1698f61d",
   "metadata": {
    "collapsed": true,
    "jupyter": {
     "outputs_hidden": true
    }
   },
   "outputs": [],
   "source": [
    "for n_list in N_list_list:\n",
    "        file_name = get_kbsa_datafile_name(models_list=models_list, \n",
    "                                x_domains_dict=x_domains_dict, \n",
    "                                kernel_types_list=kernel_types_list, \n",
    "                                hsic_types_dict=hsic_types_dict, \n",
    "                                n_list=n_list, \n",
    "                                num_of_trials=num_of_trials,\n",
    "                                model_params_dict=model_params_dict)\n",
    "\n",
    "        data = run_kbsa(hsic_types_dict=hsic_types_dict,\n",
    "                        kernel_types_list=kernel_types_list,\n",
    "                        models_list=models_list,\n",
    "                        model_params_dict=model_params_dict,\n",
    "                        x_domains_dict=x_domains_dict,\n",
    "                        sample_x_from_mesh=True,\n",
    "                        u_domains_dict=u_domains_dict,\n",
    "                        num_of_trials=num_of_trials,\n",
    "                        n_list=n_list,\n",
    "                        m_same_as_n=True,\n",
    "                        save_data=True,\n",
    "                        with_gpu=False,\n",
    "                        save_directory='data/g_1/kbsa',\n",
    "                        file_name=file_name,\n",
    "                        verbose_inner=True,\n",
    "                        verbose_outer=True,\n",
    "                        verbose_inner_inner=True)"
   ]
  },
  {
   "cell_type": "markdown",
   "id": "5a4b059b",
   "metadata": {},
   "source": [
    "#### Load data from file"
   ]
  },
  {
   "cell_type": "code",
   "execution_count": null,
   "id": "c089e953",
   "metadata": {},
   "outputs": [],
   "source": [
    "from pathlib import Path\n",
    "\n",
    "folder_sup_path = 'data/g_1/kbsa'\n",
    "folder_path = Path(f'{folder_sup_path}')\n",
    "files = [f.name for f in folder_path.iterdir() if f.is_file()]\n",
    "files"
   ]
  },
  {
   "cell_type": "markdown",
   "id": "b4e9008b",
   "metadata": {},
   "source": [
    "#### Plot results"
   ]
  },
  {
   "cell_type": "code",
   "execution_count": null,
   "id": "48c28c9d",
   "metadata": {},
   "outputs": [],
   "source": [
    "from kbsa.kbsa_plotter import plot_hsic\n",
    "from pathlib import Path\n",
    "import pickle\n",
    "\n",
    "for file in files:\n",
    "    with open(f'{folder_sup_path}/{file}', 'rb') as f:\n",
    "        data_pkl = pickle.load(f)\n",
    "        for model in data_pkl.keys():\n",
    "            file_name = file\n",
    "            file_name = file_name.replace('linearDecr', 'toy')\n",
    "            plot_hsic(data_pkl[model], \n",
    "                    model_name=model,\n",
    "                    save_plot=False,\n",
    "                    save_directory='figs/g_1/kbsa',\n",
    "                    save_name=f\"{file_name}.pdf\",\n",
    "                    no_title=True,\n",
    "                    no_individual_legends=True,\n",
    "                    base_fontsize=20,\n",
    "                    flip_row_cols=True,\n",
    "                    separate_input_boxplots=True,\n",
    "                    withTrend=False,\n",
    "                    grid_toggle=True,\n",
    "                    multi_setting=True,\n",
    "                    plot_corr_of_var=False,\n",
    "                    verbose=True,\n",
    "                    set_x_in_pows_of_10=False)"
   ]
  },
  {
   "cell_type": "markdown",
   "id": "0d3f6ed8",
   "metadata": {},
   "source": []
  },
  {
   "cell_type": "markdown",
   "id": "e6444ae0",
   "metadata": {},
   "source": [
    "# $\\text{Affine Linear Function}\\;g_2$ "
   ]
  },
  {
   "cell_type": "code",
   "execution_count": null,
   "id": "2b001ac0",
   "metadata": {},
   "outputs": [],
   "source": [
    "from kbsa.kbsa_main import run_kbsa, get_kbsa_datafile_name\n",
    "import numpy as np"
   ]
  },
  {
   "cell_type": "markdown",
   "id": "826c4782",
   "metadata": {},
   "source": [
    "#### Define parameters"
   ]
  },
  {
   "cell_type": "code",
   "execution_count": null,
   "id": "907ecf5e",
   "metadata": {},
   "outputs": [],
   "source": [
    "models_list = ['linearDecr_2']\n",
    "kernel_types_list = ['sobolev']\n",
    "h = 128\n",
    "model_params_dict = {'linearDecr_2': \n",
    "                        {'g_ineq_c': 5.25,\n",
    "                        'meshInterval': h},}\n",
    "x_domains_dict = {'linearDecr_2': np.array([[0.25,0.75]])}\n",
    "u_domains_dict = {'linearDecr_2': np.array([[0,1],[0,1],[0,1]])}\n",
    "num_of_trials = 20\n",
    "hsic_types_dict = {'unbiased': False, 'biased': False, 'R2': False, 'fellman': True}\n",
    "N_list_list = [[100, 1000, 3000]]"
   ]
  },
  {
   "cell_type": "markdown",
   "id": "2f09ed9b",
   "metadata": {},
   "source": [
    "#### Run experiments"
   ]
  },
  {
   "cell_type": "code",
   "execution_count": null,
   "id": "100c0dc2",
   "metadata": {
    "collapsed": true,
    "jupyter": {
     "outputs_hidden": true
    }
   },
   "outputs": [],
   "source": [
    "for n_list in N_list_list:\n",
    "        file_name = get_kbsa_datafile_name(models_list=models_list, \n",
    "                                x_domains_dict=x_domains_dict, \n",
    "                                kernel_types_list=kernel_types_list, \n",
    "                                hsic_types_dict=hsic_types_dict, \n",
    "                                n_list=n_list, \n",
    "                                num_of_trials=num_of_trials,\n",
    "                                model_params_dict=model_params_dict)\n",
    "\n",
    "        data = run_kbsa(hsic_types_dict=hsic_types_dict,\n",
    "                        kernel_types_list=kernel_types_list,\n",
    "                        models_list=models_list,\n",
    "                        model_params_dict=model_params_dict,\n",
    "                        x_domains_dict=x_domains_dict,\n",
    "                        sample_x_from_mesh=True,\n",
    "                        u_domains_dict=u_domains_dict,\n",
    "                        num_of_trials=num_of_trials,\n",
    "                        n_list=n_list,\n",
    "                        m_same_as_n=True,\n",
    "                        verbose_outer=True,\n",
    "                        verbose_inner=True,\n",
    "                        verbose_inner_inner=True,\n",
    "                        save_data=True,\n",
    "                        with_gpu=False,\n",
    "                        save_directory='data/g_2/kbsa',\n",
    "                        file_name=file_name)"
   ]
  },
  {
   "cell_type": "markdown",
   "id": "5085d164",
   "metadata": {},
   "source": [
    "#### Load data from file"
   ]
  },
  {
   "cell_type": "code",
   "execution_count": null,
   "id": "3be04e74",
   "metadata": {},
   "outputs": [],
   "source": [
    "from pathlib import Path\n",
    "\n",
    "folder_sup_path = 'data/g_2/kbsa'\n",
    "folder_path = Path(f'{folder_sup_path}')\n",
    "files = [f.name for f in folder_path.iterdir() if f.is_file()]\n",
    "files"
   ]
  },
  {
   "cell_type": "markdown",
   "id": "860bf5ec",
   "metadata": {},
   "source": [
    "#### Plot results"
   ]
  },
  {
   "cell_type": "code",
   "execution_count": null,
   "id": "4cb3f424",
   "metadata": {},
   "outputs": [],
   "source": [
    "from kbsa.kbsa_plotter import plot_hsic\n",
    "import pickle\n",
    "\n",
    "for file in files:\n",
    "    with open(f'{folder_sup_path}/{file}', 'rb') as f:\n",
    "        data_pkl = pickle.load(f)\n",
    "        for model in data_pkl.keys():\n",
    "            file_name = file\n",
    "            file_name = file_name.replace('linearDecr', 'g')\n",
    "            plot_hsic(data_pkl[model], \n",
    "                    model_name=model,\n",
    "                    save_plot=True,\n",
    "                    save_directory='figs/g_2/kbsa',\n",
    "                    save_name=f\"{file_name}.pdf\",\n",
    "                    no_title=True,\n",
    "                    no_individual_legends=True,\n",
    "                    base_fontsize=20,\n",
    "                    flip_row_cols=True,\n",
    "                    grid_toggle=True,\n",
    "                    withTrend=False,\n",
    "                    sup_x_label_toggle=False,\n",
    "                    sup_y_label_toggle=False,\n",
    "                    sup_legend_toggle=False,\n",
    "                    separate_input_boxplots=True,\n",
    "                    set_x_in_pows_of_10=False)"
   ]
  },
  {
   "cell_type": "markdown",
   "id": "c6b5f7ce",
   "metadata": {},
   "source": [
    "# $\\text{Nonlinear Problem}\\;g_3$"
   ]
  },
  {
   "cell_type": "markdown",
   "id": "8e3dc180",
   "metadata": {},
   "source": [
    "### $Y = G(X,U)=c_1u_1+c_2u_1u_2+u_1x$ $\\;\\;u_i\\sim \\mathbb{U}[ -1,1]$ $\\;\\;c_i\\in\\mathbb{R}$ $\\;\\;x\\in[ -1,1]$"
   ]
  },
  {
   "cell_type": "code",
   "execution_count": null,
   "id": "b520b834",
   "metadata": {},
   "outputs": [],
   "source": [
    "from kbsa.kbsa_main import run_kbsa, get_kbsa_datafile_name\n",
    "import numpy as np"
   ]
  },
  {
   "cell_type": "markdown",
   "id": "d88391ec",
   "metadata": {},
   "source": [
    "#### Define parameters"
   ]
  },
  {
   "cell_type": "code",
   "execution_count": null,
   "id": "8da0eb91",
   "metadata": {},
   "outputs": [],
   "source": [
    "models_list = ['toy_model_vect']\n",
    "kernel_types_list = ['sobolev']\n",
    "h = 128\n",
    "model_params_dict = {'toy_model_vect': \n",
    "                                    {'meshInterval': h, \n",
    "                                    'c_1': 1, \n",
    "                                    'c_2': 1, \n",
    "                                    'g_ineq_c': 0.0}}\n",
    "x_domains_dict = {'toy_model_vect': np.array([[-1,1]])}\n",
    "u_domains_dict = {'toy_model_vect': np.array([[-1,1], [-1,1]])}\n",
    "num_of_trials = 20\n",
    "hsic_types_dict = {'unbiased': False, 'biased': False, 'R2': False, 'fellman': True}\n",
    "N_list_list = [[10000]]"
   ]
  },
  {
   "cell_type": "markdown",
   "id": "46c93d0d",
   "metadata": {},
   "source": [
    "#### Run experiments"
   ]
  },
  {
   "cell_type": "code",
   "execution_count": null,
   "id": "4690c7a7",
   "metadata": {
    "collapsed": true,
    "jupyter": {
     "outputs_hidden": true
    }
   },
   "outputs": [],
   "source": [
    "for n_list in N_list_list:\n",
    "        file_name = get_kbsa_datafile_name(models_list=models_list, \n",
    "                                x_domains_dict=x_domains_dict, \n",
    "                                kernel_types_list=kernel_types_list, \n",
    "                                hsic_types_dict=hsic_types_dict, \n",
    "                                n_list=n_list, \n",
    "                                num_of_trials=num_of_trials,\n",
    "                                model_params_dict=model_params_dict)\n",
    "\n",
    "        data = run_kbsa(hsic_types_dict=hsic_types_dict,\n",
    "                        kernel_types_list=kernel_types_list,\n",
    "                        models_list=models_list,\n",
    "                        model_params_dict=model_params_dict,\n",
    "                        x_domains_dict=x_domains_dict,\n",
    "                        sample_x_from_mesh=True,\n",
    "                        u_domains_dict=u_domains_dict,\n",
    "                        num_of_trials=num_of_trials,\n",
    "                        n_list=n_list,\n",
    "                        m_same_as_n=True,\n",
    "                        save_data=True,\n",
    "                        with_gpu=False,\n",
    "                        save_directory='data/g_3/kbsa',\n",
    "                        file_name=file_name)"
   ]
  },
  {
   "cell_type": "markdown",
   "id": "5b297f9a",
   "metadata": {},
   "source": [
    "#### Load data from file"
   ]
  },
  {
   "cell_type": "code",
   "execution_count": null,
   "id": "1a384b45",
   "metadata": {},
   "outputs": [],
   "source": [
    "from pathlib import Path\n",
    "\n",
    "folder_sup_path = 'data/g_3/kbsa'\n",
    "folder_path = Path(f'{folder_sup_path}')\n",
    "files = [f.name for f in folder_path.iterdir() if f.is_file()]\n",
    "files"
   ]
  },
  {
   "cell_type": "markdown",
   "id": "2526d370",
   "metadata": {},
   "source": [
    "Plot results"
   ]
  },
  {
   "cell_type": "code",
   "execution_count": null,
   "id": "c22c3203",
   "metadata": {},
   "outputs": [],
   "source": [
    "from kbsa.kbsa_plotter import plot_hsic\n",
    "import pickle\n",
    "\n",
    "for file in files:\n",
    "    with open(f'{folder_sup_path}/{file}', 'rb') as f:\n",
    "        data_pkl = pickle.load(f)\n",
    "        for model in data_pkl.keys():\n",
    "            file_name = file\n",
    "            file_name = file_name.replace('toy_model_vect', 'g_3')\n",
    "            plot_hsic(data_pkl[model], \n",
    "                    model_name=model,\n",
    "                    save_plot=True,\n",
    "                    save_directory='figs/g_3/kbsa/adjusted',\n",
    "                    save_name=f\"{file_name}.pdf\",\n",
    "                    no_title=True,\n",
    "                    no_individual_legends=True,\n",
    "                    base_fontsize=20,\n",
    "                    flip_row_cols=True,\n",
    "                    grid_toggle=True,\n",
    "                    sup_legend_toggle=True,\n",
    "                    sup_x_label_toggle=True,\n",
    "                    sup_y_label_toggle=True,\n",
    "                    separate_input_boxplots=True,\n",
    "                    withTrend=False,\n",
    "                    set_x_in_pows_of_10=False)"
   ]
  },
  {
   "cell_type": "markdown",
   "id": "f878a734",
   "metadata": {},
   "source": [
    "-----------"
   ]
  },
  {
   "cell_type": "markdown",
   "id": "c8e903c2",
   "metadata": {},
   "source": [
    "# $\\text{The Fellmann Function}\\;g_5$"
   ]
  },
  {
   "cell_type": "code",
   "execution_count": null,
   "id": "2afd3353",
   "metadata": {},
   "outputs": [],
   "source": [
    "from kbsa.kbsa_main import run_kbsa, get_kbsa_datafile_name\n",
    "import numpy as np"
   ]
  },
  {
   "cell_type": "code",
   "execution_count": null,
   "id": "77127e83",
   "metadata": {},
   "outputs": [],
   "source": [
    "hsic_types_dict = {'unbiased': False, 'biased': False, 'R2': False, 'fellman': True}\n",
    "for h in [1024]:\n",
    "    for R2vFellmann in range(1):\n",
    "        if R2vFellmann == 0:\n",
    "            hsic_types_dict = {'unbiased': False, 'biased': False, 'R2': True, 'fellman': True}\n",
    "        print(f'Performing {[key for key, val in hsic_types_dict.items() if val is True]}')\n",
    "        print(f'Setting the 1D mesh-resolution to {h} --> {h+1} spatial nodes.')\n",
    "        # for myN in [100, 1000, 10000]:\n",
    "        n_list = [100, 1000]\n",
    "        models_list = ['toy_1']\n",
    "        kernel_types_list = ['sobolev']\n",
    "        model_params_dict = {'ishigami': {'g_ineq_c': 3, 'a': 7, 'b': 0.1},\n",
    "                            'toy_1': {'g_ineq_c': 0},\n",
    "                            'toy_2': {'g_ineq_c': 0},\n",
    "                            'linearDecr_1': {'g_ineq_c': 3.9375},\n",
    "                            'linearDecr_2': {'g_ineq_c': 5.4375},\n",
    "                            '1D_diffu_expl': {'P':3, 'mu':1, 'std':5, 'get_est_error': False, 'g_ineq_c': 0.135},\n",
    "                            '1D_diffu_FEM': {'P':3, 'mu':1, 'std':5, 'meshInterval':h, 'minSpatialVal': 0, 'maxSpatialVal': 1, 'g_ineq_c': 0.135, 'auto_mean': False}}\n",
    "\n",
    "        x_domains_dict = {'ishigami': np.array([[-1, 1]]),\n",
    "                        'toy_1': np.array([[-5,5],[-5,5]]),\n",
    "                        'toy_2': np.array([[-5,5],[-5,5]]),\n",
    "                        'linearDecr_1': np.array([[0.25,0.75]]),\n",
    "                        'linearDecr_2': np.array([[0.25,0.75]]),\n",
    "                        '1D_diffu_expl': np.array([[0,1]]),\n",
    "                        '1D_diffu_FEM': np.array([[0,1]])}\n",
    "        u_domains_dict = {'ishigami': np.array([[-np.pi, np.pi], [-np.pi, np.pi]]),\n",
    "                        'toy_1': np.array([[-5,5],[-5,5],[-5,5]]),\n",
    "                        'toy_2': np.array([[-5,5],[-5,5]]),\n",
    "                        'linearDecr_1': np.array([[0,1],[0,1],[0,1],[0,1],[0,1]]),\n",
    "                        'linearDecr_2': np.array([[0,1],[0,1],[0,1],[0,1],[0,1]]),\n",
    "                        '1D_diffu_expl': np.array([[-1,1]]*model_params_dict['1D_diffu_expl']['P']),\n",
    "                        '1D_diffu_FEM': np.array([[-1,1]]*model_params_dict['1D_diffu_FEM']['P'])}\n",
    "                        # '1D_diffu_expl': np.tile([-1,1], (model_params_dict['1D_diffu_expl']['P'],1))}\n",
    "        num_of_trials = 20\n",
    "\n",
    "        \n",
    "        print(f\"n: {n_list}, h: {h}\")\n",
    "        file_name = get_kbsa_datafile_name(models_list=models_list,\n",
    "                                model_params_dict=model_params_dict,\n",
    "                                x_domains_dict=x_domains_dict, \n",
    "                                kernel_types_list=kernel_types_list, \n",
    "                                hsic_types_dict=hsic_types_dict, \n",
    "                                n_list=n_list, \n",
    "                                num_of_trials=num_of_trials,)\n",
    "        file_name = file_name.replace('toy_1', 'fellmann_toy')\n",
    "        data = run_kbsa(hsic_types_dict=hsic_types_dict,\n",
    "                        kernel_types_list=kernel_types_list,\n",
    "                        models_list=models_list,\n",
    "                        model_params_dict=model_params_dict,\n",
    "                        x_domains_dict=x_domains_dict,\n",
    "                        u_domains_dict=u_domains_dict,\n",
    "                        num_of_trials=num_of_trials,\n",
    "                        n_list=n_list,\n",
    "                        m_same_as_n=True,\n",
    "                        verbose_outer=True,\n",
    "                        verbose_inner=True,\n",
    "                        verbose_inner_inner=True,\n",
    "                        save_data=True,\n",
    "                        with_gpu=False,\n",
    "                        save_directory='data/fellmann_toy/kbsa/',\n",
    "                        file_name=file_name)"
   ]
  },
  {
   "cell_type": "code",
   "execution_count": null,
   "id": "8ecbc778",
   "metadata": {},
   "outputs": [],
   "source": [
    "from kbsa.kbsa_plotter import plot_hsic\n",
    "from pathlib import Path\n",
    "import pickle\n",
    "\n",
    "folder_sup_path = 'data/fellmann_toy/kbsa'\n",
    "folder_path = Path(f'{folder_sup_path}')\n",
    "files = [f.name for f in folder_path.iterdir() if f.is_file()]\n",
    "\n",
    "for file in files:\n",
    "    with open(f'{folder_sup_path}/{file}', 'rb') as f:\n",
    "        data_pkl = pickle.load(f)\n",
    "        for model in data_pkl.keys():\n",
    "            file_name = file\n",
    "            file_name = file_name.replace('toy_1', 'fellmann_toy')\n",
    "            plot_hsic(data_pkl[model], \n",
    "                    model_name=model,\n",
    "                    save_plot=True,\n",
    "                    save_directory='figs/fellmann_toy/kbsa/',\n",
    "                    save_name=f\"{file_name}.pdf\",\n",
    "                    no_title=True,\n",
    "                    no_individual_legends=True,\n",
    "                    base_fontsize=20,\n",
    "                    flip_row_cols=True,\n",
    "                    grid_toggle=True,\n",
    "                    sup_legend_toggle=True,\n",
    "                    sup_x_label_toggle=True,\n",
    "                    sup_y_label_toggle=True,\n",
    "                    separate_input_boxplots=True,\n",
    "                    withTrend=False,\n",
    "                    set_x_in_pows_of_10=False)"
   ]
  },
  {
   "cell_type": "markdown",
   "id": "012caa6b",
   "metadata": {},
   "source": [
    "---\n"
   ]
  },
  {
   "cell_type": "markdown",
   "id": "96c29bf3",
   "metadata": {},
   "source": [
    "# $\\text{The 1D-Diffusion Problem}$"
   ]
  },
  {
   "cell_type": "code",
   "execution_count": null,
   "id": "dc477784",
   "metadata": {},
   "outputs": [],
   "source": [
    "from kbsa.kbsa_main import run_kbsa, get_kbsa_datafile_name\n",
    "import numpy as np"
   ]
  },
  {
   "cell_type": "code",
   "execution_count": null,
   "id": "1fb90fdb",
   "metadata": {},
   "outputs": [],
   "source": [
    "for h in [1024]:\n",
    "    print(f'Setting the 1D mesh-resolution to {h} --> {h+1} spatial nodes.')\n",
    "    # for myN in [100, 1000, 10000]:\n",
    "    n_list = [100, 1000, 10000]\n",
    "        # if h == 1024 and myN == 1000:\n",
    "        #     continue\n",
    "    # for x_range in np.array([[0,1],[0.2,0.8],[0.3,0.7],[0.35,0.65],[0.45,0.55],[0.0,0.4],[0.6,1.0]]):\n",
    "    for x_range in np.array([[0.0,1.0],[0.45,0.55],[0.0,0.4],[0.6,1.0]]):\n",
    "        models_list = ['1D_diffu_FEM']\n",
    "        kernel_types_list = ['sobolev']\n",
    "        model_params_dict = {'ishigami': {'g_ineq_c': 3, 'a': 7, 'b': 0.1},\n",
    "                            'toy_1': {'g_ineq_c': 0},\n",
    "                            'toy_2': {'g_ineq_c': 0},\n",
    "                            'linearDecr_1': {'g_ineq_c': 3.9375},\n",
    "                            'linearDecr_2': {'g_ineq_c': 5.4375},\n",
    "                            '1D_diffu_expl': {'P':3, 'mu':1, 'std':5, 'get_est_error': False, 'g_ineq_c': 0.135},\n",
    "                            '1D_diffu_FEM': {'P':3, 'mu':1, 'std':5, 'meshInterval':h, 'minSpatialVal': 0, 'maxSpatialVal': 1, 'g_ineq_c': 0.135, 'auto_mean': False}}\n",
    "\n",
    "        x_domains_dict = {'ishigami': np.array([[-1, 1]]),\n",
    "                        'toy_1': np.array([[-5,5],[-5,5]]),\n",
    "                        'toy_2': np.array([[-5,5],[-5,5]]),\n",
    "                        'linearDecr_1': np.array([[0.25,0.75]]),\n",
    "                        'linearDecr_2': np.array([[0.25,0.75]]),\n",
    "                        '1D_diffu_expl': np.array([[0,1]]),\n",
    "                        '1D_diffu_FEM': np.array([x_range])}\n",
    "        u_domains_dict = {'ishigami': np.array([[-np.pi, np.pi], [-np.pi, np.pi]]),\n",
    "                        'toy_1': np.array([[-5,5],[-5,5]]),\n",
    "                        'toy_2': np.array([[-5,5],[-5,5]]),\n",
    "                        'linearDecr_1': np.array([[0,1],[0,1],[0,1],[0,1],[0,1]]),\n",
    "                        'linearDecr_2': np.array([[0,1],[0,1],[0,1],[0,1],[0,1]]),\n",
    "                        '1D_diffu_expl': np.array([[-1,1]]*model_params_dict['1D_diffu_expl']['P']),\n",
    "                        '1D_diffu_FEM': np.array([[-1,1]]*model_params_dict['1D_diffu_FEM']['P'])}\n",
    "                        # '1D_diffu_expl': np.tile([-1,1], (model_params_dict['1D_diffu_expl']['P'],1))}\n",
    "        num_of_trials = 20\n",
    "        hsic_types_dict = {'unbiased': False, 'biased': False, 'R2': False, 'fellman': True}\n",
    "        print(f\"n: {n_list}, h: {h}\")\n",
    "        file_name = get_kbsa_datafile_name(models_list=models_list,\n",
    "                                model_params_dict=model_params_dict,\n",
    "                                x_domains_dict=x_domains_dict, \n",
    "                                kernel_types_list=kernel_types_list, \n",
    "                                hsic_types_dict=hsic_types_dict, \n",
    "                                n_list=n_list, \n",
    "                                num_of_trials=num_of_trials,\n",
    "                                meshInterval=model_params_dict[models_list[0]]['meshInterval'],\n",
    "                                auto_mean=model_params_dict['1D_diffu_FEM']['auto_mean'])\n",
    "        \n",
    "        data = run_kbsa(hsic_types_dict=hsic_types_dict,\n",
    "                        kernel_types_list=kernel_types_list,\n",
    "                        models_list=models_list,\n",
    "                        model_params_dict=model_params_dict,\n",
    "                        x_domains_dict=x_domains_dict,\n",
    "                        u_domains_dict=u_domains_dict,\n",
    "                        num_of_trials=num_of_trials,\n",
    "                        n_list=n_list,\n",
    "                        m_same_as_n=True,\n",
    "                        verbose_outer=True,\n",
    "                        verbose_inner=True,\n",
    "                        verbose_inner_inner=True,\n",
    "                        save_data=True,\n",
    "                        with_gpu=False,\n",
    "                        save_directory='data/1d_diffusion/kbsa/',\n",
    "                        file_name=file_name)"
   ]
  },
  {
   "cell_type": "code",
   "execution_count": null,
   "id": "40e41831",
   "metadata": {},
   "outputs": [],
   "source": [
    "from pathlib import Path\n",
    "\n",
    "\n",
    "folder_sup_path = 'data/1d_diffusion/kbsa/'\n",
    "folder_path = Path(f'{folder_sup_path}')\n",
    "files = [f.name for f in folder_path.iterdir() if f.is_file()]\n",
    "files"
   ]
  },
  {
   "cell_type": "code",
   "execution_count": null,
   "id": "16edcbd1",
   "metadata": {},
   "outputs": [],
   "source": [
    "from kbsa.kbsa_plotter import plot_hsic\n",
    "import pickle\n",
    "import re\n",
    "\n",
    "for file in files:\n",
    "    file_name = file\n",
    "    interval_str_idx_0 = file_name.find(\"[\") + 1 \n",
    "    interval_str_idx_1 = file_name.find(\"]\") + 1\n",
    "    print(file)\n",
    "    if '.DS' in file:\n",
    "        continue\n",
    "    if 'unbiased' in file:\n",
    "        sampling_number_N = re.search(r\"unbiased__(.*?)__\", file_name).group(1)\n",
    "    else:\n",
    "        sampling_number_N = re.search(r\"fellman__(.*?)__\", file_name).group(1)\n",
    "    print(f\"Sampling number N = {sampling_number_N}\")\n",
    "    print(f\"Plotting for interval {file_name[interval_str_idx_0:interval_str_idx_1]}\")\n",
    "    with open(f'{folder_sup_path}/{file}', 'rb') as f:\n",
    "        data_pkl = pickle.load(f)\n",
    "        for model in data_pkl.keys():\n",
    "            plot_hsic(data_pkl[model], \n",
    "                    model_name=model,\n",
    "                    save_plot=True,\n",
    "                    save_directory='figs/1d_diffusion/kbsa',\n",
    "                    save_name=f\"{file_name}.pdf\",\n",
    "                    no_title=True,\n",
    "                    no_individual_legends=True,\n",
    "                    base_fontsize=22,\n",
    "                    flip_row_cols=True,\n",
    "                    separate_input_boxplots=True,\n",
    "                    withTrend=False,\n",
    "                    trend_type='1/N',\n",
    "                    grid_toggle=True,\n",
    "                    multi_setting=True,\n",
    "                    plot_corr_of_var=False,\n",
    "                    verbose=False,\n",
    "                    set_x_in_pows_of_10=False,\n",
    "                    box_plots_toggle=True)"
   ]
  },
  {
   "cell_type": "markdown",
   "id": "22442fc1",
   "metadata": {},
   "source": [
    "-----"
   ]
  },
  {
   "cell_type": "markdown",
   "id": "17393af2",
   "metadata": {},
   "source": [
    "### $Y = G(X,U)=c_1u_1+c_2u_1u_2+u_1x$ $\\;\\;u_i\\sim \\mathbb{U}[ -1,1]$ $\\;\\;c_i\\in\\mathbb{R}$ $\\;\\;x\\in[ -1,1]$"
   ]
  },
  {
   "cell_type": "code",
   "execution_count": null,
   "id": "d4d2ec9b",
   "metadata": {},
   "outputs": [],
   "source": [
    "for n_list in [[100, 500, 1000]]:\n",
    "        models_list = ['toy_model_vect']\n",
    "        kernel_types_list = ['sobolev']\n",
    "        model_params_dict = {'ishigami': {'g_ineq_c': 3, 'a': 7, 'b': 0.1},\n",
    "                        'toy_1': {'g_ineq_c': 0},\n",
    "                        'toy_2': {'g_ineq_c': 0},\n",
    "                        'linearDecr_1': {'g_ineq_c': 3.9375},\n",
    "                        'linearDecr_2': {'g_ineq_c': 5.4375},\n",
    "                        '1D_diffu_expl': {'P':3, 'mu':1, 'std':5, 'get_est_error': False, 'g_ineq_c': 0.135},\n",
    "                        '1D_diffu_FEM': {'P':3, 'mu':1, 'std':5, 'meshInterval':1028, 'minSpatialVal': 0, 'maxSpatialVal': 1, 'g_ineq_c': 0.135},\n",
    "                        'cdr': {'mesh_2D_dir': 'data/CDR/mesh_save_dir/rectangle.xdmf', \n",
    "                                'mesh_steps': 0.025, \n",
    "                                't_end': 0.1, \n",
    "                                'num_steps':10, \n",
    "                                'g_ineq_c': {'fuel': 0.02, 'oxygen': 0.14, 'product': 0.014, 'temp': 900}},\n",
    "                        'x1CosPiX2SinPiX2': {'g_ineq_c': 0},\n",
    "                        'toy_model_vect' : {'meshInterval': 128, 'c_1': 1, 'c_2': 1, 'g_ineq_c': 0.0}}\n",
    "\n",
    "        x_domains_dict = {'ishigami': np.array([[-1, 1]]),\n",
    "                        'toy_1': np.array([[-5,5],[-5,5]]),\n",
    "                        'toy_2': np.array([[-5,5],[-5,5]]),\n",
    "                        'linearDecr_1': np.array([[0.25,0.75]]),\n",
    "                        'linearDecr_2': np.array([[0.25,0.75]]),\n",
    "                        '1D_diffu_expl': np.array([[0,1]]),\n",
    "                        '1D_diffu_FEM': np.array([0.1,0.9]),\n",
    "                        'cdr': np.array([[0.2,0.3],[0.01,0.2]]),\n",
    "                        'x1CosPiX2SinPiX2': np.array([[0,1]]),\n",
    "                        'toy_model_vect': np.array([[-1,1]])}\n",
    "\n",
    "        u_domains_dict = {'ishigami': np.array([[-np.pi, np.pi], [-np.pi, np.pi]]),\n",
    "                        'toy_1': np.array([[-5,5],[-5,5]]),\n",
    "                        'toy_2': np.array([[-5,5],[-5,5]]),\n",
    "                        'linearDecr_1': np.array([[0,1],[0,1],[0,1],[0,1],[0,1]]),\n",
    "                        'linearDecr_2': np.array([[0,1],[0,1],[0,1],[0,1],[0,1]]),\n",
    "                        '1D_diffu_expl': np.array([[-1,1]]*model_params_dict['1D_diffu_expl']['P']),\n",
    "                        '1D_diffu_FEM': np.array([[-1,1]]*model_params_dict['1D_diffu_FEM']['P']),\n",
    "                        'cdr': np.array([[5e11,1.5e12],[1.5e3,9.5e3],[850,1000],[200,400],[0.5,1.5]]),\n",
    "                        'x1CosPiX2SinPiX2': np.array([[-1,1], [-1,1]]),\n",
    "                        'toy_model_vect': np.array([[-1,1], [-1,1]])}\n",
    "                        # '1D_diffu_expl': np.tile([-1,1], (model_params_dict['1D_diffu_expl']['P'],1))}\n",
    "        num_of_trials = 20\n",
    "        # num_of_trials = 5\n",
    "        # n_list = [50] #n must be at least 3 otherwise we'll run into a division by 0 at some point (should fix this edge)\n",
    "        # n_list = [50]\n",
    "        hsic_types_dict = {'unbiased': True, 'biased': False, 'R2': False, 'fellman': False}\n",
    "        # print(f\"n: {n_list}, h: {h}\")\n",
    "        file_name = get_kbsa_datafile_name(models_list=models_list, \n",
    "                                x_domains_dict=x_domains_dict, \n",
    "                                kernel_types_list=kernel_types_list, \n",
    "                                hsic_types_dict=hsic_types_dict, \n",
    "                                n_list=n_list, \n",
    "                                num_of_trials=num_of_trials,\n",
    "                                model_params_dict=model_params_dict)\n",
    "\n",
    "        data = run_kbsa(hsic_types_dict=hsic_types_dict,\n",
    "                        kernel_types_list=kernel_types_list,\n",
    "                        models_list=models_list,\n",
    "                        model_params_dict=model_params_dict,\n",
    "                        x_domains_dict=x_domains_dict,\n",
    "                        sample_x_from_mesh=True,\n",
    "                        u_domains_dict=u_domains_dict,\n",
    "                        num_of_trials=num_of_trials,\n",
    "                        n_list=n_list,\n",
    "                        m_same_as_n=True,\n",
    "                        save_data=True,\n",
    "                        with_gpu=False,\n",
    "                        save_directory='kbsa/data',\n",
    "                        file_name=file_name)"
   ]
  },
  {
   "cell_type": "markdown",
   "id": "22d418e3",
   "metadata": {},
   "source": [
    "## Plot from saved data"
   ]
  },
  {
   "cell_type": "markdown",
   "id": "947fee0b",
   "metadata": {},
   "source": [
    "### Load data from kbsa data directory"
   ]
  },
  {
   "cell_type": "code",
   "execution_count": null,
   "id": "b3e7c642",
   "metadata": {},
   "outputs": [],
   "source": [
    "from pathlib import Path\n",
    "import pickle\n",
    "from kbsa.kbsa_plotter import plot_hsic\n",
    "\n",
    "folder_path = Path('kbsa/data')\n",
    "files = [f.name for f in folder_path.iterdir() if f.is_file()]\n",
    "files"
   ]
  },
  {
   "cell_type": "markdown",
   "id": "08a7540f",
   "metadata": {},
   "source": [
    "### Plot everything"
   ]
  },
  {
   "cell_type": "markdown",
   "id": "3127a826",
   "metadata": {},
   "source": [
    "Set `plot_hsic` function's input parameter `save_plot` to `True` to save plots as well."
   ]
  },
  {
   "cell_type": "code",
   "execution_count": null,
   "id": "fe04bc37",
   "metadata": {},
   "outputs": [],
   "source": [
    "for file in files:\n",
    "    if '.pkl' not in file:\n",
    "        continue\n",
    "    if 'expl' in file:\n",
    "        continue\n",
    "    if 'auto_mean' in file:\n",
    "        continue\n",
    "    if '1D_diffu_FEM' and '1024' not in file:\n",
    "        continue\n",
    "    # if '1024' not in file:\n",
    "    #     continue\n",
    "    with open(f'kbsa/data/{file}', 'rb') as f:\n",
    "        data_pkl = pickle.load(f)\n",
    "        for model in data_pkl.keys():\n",
    "            file_name = file\n",
    "            file_name = file_name.replace('.pkl', '')\n",
    "            print(file)\n",
    "            print(file_name)\n",
    "            plot_hsic(data_pkl[model], \n",
    "                    model_name=model,\n",
    "                    save_plot=True,\n",
    "                    save_directory='kbsa/figs',\n",
    "                    save_name=f\"{file_name}.pdf\")"
   ]
  },
  {
   "cell_type": "code",
   "execution_count": null,
   "id": "f4bf2efa",
   "metadata": {},
   "outputs": [],
   "source": []
  },
  {
   "cell_type": "markdown",
   "id": "546f5c4f",
   "metadata": {},
   "source": [
    "# -------------"
   ]
  },
  {
   "cell_type": "markdown",
   "id": "b68d0f2b",
   "metadata": {},
   "source": [
    "Other possible model parameter to choose is 'ishigami'"
   ]
  },
  {
   "cell_type": "code",
   "execution_count": null,
   "id": "f4b86e8d",
   "metadata": {},
   "outputs": [],
   "source": [
    "models_list = ['ishigami']\n",
    "kernel_types_list = ['sobolev']\n",
    "model_params_dict = {'ishigami': {'g_ineq_c': 3, 'a': 7, 'b': 0.1},\n",
    "                    'toy_1': {'g_ineq_c': 0},\n",
    "                    'toy_2': {'g_ineq_c': 0},\n",
    "                    'linearDecr_1': {'g_ineq_c': 3.75},\n",
    "                    'linearDecr_2': {'g_ineq_c': 5.25},\n",
    "                    'toy_model_vect' : {'meshInterval': 128, 'c_1': 1, 'c_2': 1, 'g_ineq_c': 0.0}}\n",
    "x_domains_dict = {'ishigami': np.array([[-1.0, 1.0]]),\n",
    "                'toy_1': np.array([[-5,5],[-5,5]]),\n",
    "                'toy_2': np.array([[-5,5],[-5,5]]),\n",
    "                'linearDecr_1': np.array([[0.25,0.75]]),\n",
    "                'linearDecr_2': np.array([[0.25,0.75]]),\n",
    "                'toy_model_vect': np.array([[-1,1]])}\n",
    "u_domains_dict = {'ishigami': np.array([[-np.pi, np.pi], [-np.pi, np.pi]]),\n",
    "                'toy_1': np.array([[-5,5],[-5,5]]),\n",
    "                'toy_2': np.array([[-5,5],[-5,5]]),\n",
    "                'linearDecr_1': np.array([[0,1],[0,1],[0,1]]),\n",
    "                'linearDecr_2': np.array([[0,1],[0,1],[0,1]]),\n",
    "                'toy_model_vect': np.array([[-1,1], [-1,1]])}\n",
    "num_of_trials = 20\n",
    "# num_of_trials = 5\n",
    "n_list = [500]\n",
    "# n_list = [50]\n",
    "hsic_types_dict = {'unbiased': False, 'biased': False, 'R2': False, 'fellman': True}\n"
   ]
  }
 ],
 "metadata": {
  "kernelspec": {
   "display_name": "thesis-repro",
   "language": "python",
   "name": "python3"
  },
  "language_info": {
   "codemirror_mode": {
    "name": "ipython",
    "version": 3
   },
   "file_extension": ".py",
   "mimetype": "text/x-python",
   "name": "python",
   "nbconvert_exporter": "python",
   "pygments_lexer": "ipython3",
   "version": "3.10.14"
  }
 },
 "nbformat": 4,
 "nbformat_minor": 5
}
