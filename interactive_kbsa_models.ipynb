{
 "cells": [
  {
   "cell_type": "code",
   "execution_count": 1,
   "id": "f10c449e",
   "metadata": {},
   "outputs": [],
   "source": [
    "import numpy as np\n",
    "import ipywidgets as widgets\n",
    "import matplotlib.pyplot as plt\n",
    "from ipywidgets import interact"
   ]
  },
  {
   "cell_type": "markdown",
   "id": "c79d67cd",
   "metadata": {},
   "source": [
    "## Ishigami"
   ]
  },
  {
   "cell_type": "code",
   "execution_count": 2,
   "id": "4fe1e428",
   "metadata": {},
   "outputs": [],
   "source": [
    "def ishiFen(u1, u2, u3, a=7, b=0.1):\n",
    "    \"\"\"Define the Ishigami function.\"\"\"\n",
    "    # x_1, x_2, x_3 = inputVect\n",
    "    x_1 = u1\n",
    "    x_2 = u2\n",
    "    x_3 = u3\n",
    "    return np.sin(x_1) + a * np.sin(x_2)**2 + b * x_3**4 * np.sin(x_1)\n",
    "\n",
    "# u_x_results_arr[coord_idx][idx_1][idx_2][idx_3] = u_x\n",
    "a_test=7\n",
    "b_test=0.1\n",
    "xAxis_card = 100\n",
    "xi_arr_index_cardin = 100\n",
    "x_1_arr = np.linspace(-np.pi,np.pi,xi_arr_index_cardin)\n",
    "x_2_arr = np.linspace(-np.pi,np.pi,xi_arr_index_cardin)\n",
    "x_3_arr = np.linspace(-np.pi,np.pi,xAxis_card)\n",
    "y_data_arr = np.zeros([xAxis_card, xi_arr_index_cardin, xi_arr_index_cardin])\n",
    "for coord_idx in range(xi_arr_index_cardin):\n",
    "    for i in range(xi_arr_index_cardin):\n",
    "        for j in range(xi_arr_index_cardin):\n",
    "            y_data_arr[coord_idx][i][j] = ishiFen(x_1_arr[i], x_2_arr[j], x_3_arr[coord_idx], a=a_test, b=b_test)\n",
    "y_data_arr = np.array(y_data_arr)"
   ]
  },
  {
   "cell_type": "code",
   "execution_count": 4,
   "id": "36748b62",
   "metadata": {},
   "outputs": [
    {
     "data": {
      "application/vnd.jupyter.widget-view+json": {
       "model_id": "7a2f99fcfda247fdae7723b958cf6205",
       "version_major": 2,
       "version_minor": 0
      },
      "text/plain": [
       "interactive(children=(IntSlider(value=0, description='x_1', max=99), IntSlider(value=0, description='x_2', max…"
      ]
     },
     "metadata": {},
     "output_type": "display_data"
    }
   ],
   "source": [
    "%matplotlib inline\n",
    "\n",
    "y_min = min(y_data_arr.min(),0)\n",
    "y_max = y_data_arr.max()\n",
    "x_data = x_3_arr\n",
    "\n",
    "# Parameter values for the 3 axes of size 10\n",
    "xi_1_values = x_1_arr\n",
    "xi_2_values = x_2_arr\n",
    "# xi_3_values = x_3_arr\n",
    "\n",
    "def plot_function(xi_1_idx, xi_2_idx):\n",
    "    plt.figure(figsize=(15,6))\n",
    "    \n",
    "    y_data = y_data_arr[:, xi_1_idx, xi_2_idx]\n",
    "    \n",
    "    plt.plot(x_data, y_data, marker='o')\n",
    "    plt.ylim(y_min, y_max)\n",
    "    plt.xlabel(\"Coefficient x_3 (x)\")\n",
    "    plt.ylabel(r\"Output of Ishigami Function\")\n",
    "\n",
    "    xi_1_val = xi_1_values[xi_1_idx]\n",
    "    xi_2_val = xi_2_values[xi_2_idx]\n",
    "    # xi_3_val = xi_3_values[xi_3_idx]\n",
    "    plt.title(r\"$y=\\sin(x_1) + a * \\sin(x_2)^2 + b * x_3^4 * \\sin(x_1)$\"+\n",
    "            '\\n'+\n",
    "            rf\"$a=${a_test} | $b=${b_test}\"+\n",
    "            '\\n'+\n",
    "            rf\"$x_1$={xi_1_val:.5f} | $x_2$={xi_2_val:.5f}\")\n",
    "    \n",
    "    plt.grid(True)\n",
    "    plt.show()\n",
    "\n",
    "xi_1_slider = widgets.IntSlider(min=0, max=xi_arr_index_cardin-1, step=1, value=0, description='x_1')\n",
    "xi_2_slider = widgets.IntSlider(min=0, max=xi_arr_index_cardin-1, step=1, value=0, description='x_2')\n",
    "# xi_3_slider = widgets.IntSlider(min=0, max=xi_arr_index_cardin-1, step=1, value=0, description='ξ_3')\n",
    "\n",
    "interactive_plot = interact(plot_function,\n",
    "                            xi_1_idx=xi_1_slider,\n",
    "                            xi_2_idx=xi_2_slider)"
   ]
  },
  {
   "cell_type": "markdown",
   "id": "6b9fb288",
   "metadata": {},
   "source": [
    "## Toy 1"
   ]
  },
  {
   "cell_type": "code",
   "execution_count": null,
   "id": "3d843359",
   "metadata": {},
   "outputs": [],
   "source": [
    "def g_toy(x1, x2, u1, u2):\n",
    "    return -(x1*x1)+5*x2+(u1*u1)+(u2*u2)-1\n",
    "xAxis_card = 20\n",
    "xi_arr_index_cardin = 20\n",
    "x_1_arr = np.linspace(-5, 5, xAxis_card)\n",
    "x_2_arr = np.linspace(-5, 5, xi_arr_index_cardin)\n",
    "u_1_arr = np.linspace(-5, 5, xi_arr_index_cardin)\n",
    "u_2_arr = np.linspace(-5, 5, xi_arr_index_cardin)\n",
    "\n",
    "y_data_arr = np.zeros([xAxis_card, xi_arr_index_cardin, xi_arr_index_cardin, xi_arr_index_cardin])\n",
    "for coord_idx in range(xAxis_card):\n",
    "    for i in range(xi_arr_index_cardin):\n",
    "        for j in range(xi_arr_index_cardin):\n",
    "            for k in range(xi_arr_index_cardin):\n",
    "                y_data_arr[coord_idx,i,j,k] = g_toy(x1=x_1_arr[coord_idx], x2=x_2_arr[i], u1=u_1_arr[j], u2=u_2_arr[k])\n",
    "y_data_arr = np.array(y_data_arr)"
   ]
  },
  {
   "cell_type": "code",
   "execution_count": null,
   "id": "4303f060",
   "metadata": {},
   "outputs": [],
   "source": [
    "%matplotlib inline\n",
    "\n",
    "y_min = y_data_arr.min()\n",
    "y_max = y_data_arr.max()\n",
    "\n",
    "x_data = x_1_arr\n",
    "xi_2_values = x_2_arr\n",
    "ui_1_values = u_1_arr\n",
    "ui_2_values = u_2_arr\n",
    "\n",
    "def plot_function(xi_2_idx, ui_1_idx, ui_2_idx):\n",
    "    plt.figure(figsize=(15,6))\n",
    "    \n",
    "    y_data = y_data_arr[:, xi_2_idx, ui_1_idx, ui_2_idx]\n",
    "    \n",
    "    plt.plot(x_data, y_data, marker='o')\n",
    "    plt.ylim(y_min, y_max)\n",
    "    plt.xlabel(\"Coefficient x_1 (x)\")\n",
    "    plt.ylabel(r\"Output of Toy Function\")\n",
    "\n",
    "\n",
    "    xi_2_val = xi_2_values[xi_2_idx]\n",
    "    ui_1_val = ui_1_values[ui_1_idx]\n",
    "    ui_2_val = ui_2_values[ui_2_idx] \n",
    "\n",
    "    plt.title(r\"$y= -x_1^2 + 5*x^2 - u_1 + u_2^2 - 1$\"+\n",
    "            '\\n'+\n",
    "            rf\"$x_2$={xi_2_val:.5f} | $u_1$={ui_1_val:.5f} | $u_2$={ui_2_val:.5f}\")\n",
    "    \n",
    "    plt.grid(True)\n",
    "    plt.show()\n",
    "\n",
    "xi_2_slider = widgets.IntSlider(min=0, max=xi_arr_index_cardin-1, step=1, value=0, description='x_2')\n",
    "ui_1_slider = widgets.IntSlider(min=0, max=xi_arr_index_cardin-1, step=1, value=0, description='u_1')\n",
    "ui_2_slider = widgets.IntSlider(min=0, max=xi_arr_index_cardin-1, step=1, value=0, description='u_2')\n",
    "# xi_3_slider = widgets.IntSlider(min=0, max=xi_arr_index_cardin-1, step=1, value=0, description='ξ_3')\n",
    "\n",
    "interactive_plot = interact(plot_function,\n",
    "                            xi_2_idx=xi_2_slider,\n",
    "                            ui_1_idx=ui_1_slider,\n",
    "                            ui_2_idx=ui_2_slider)"
   ]
  }
 ],
 "metadata": {
  "kernelspec": {
   "display_name": "fenicsproject",
   "language": "python",
   "name": "python3"
  },
  "language_info": {
   "codemirror_mode": {
    "name": "ipython",
    "version": 3
   },
   "file_extension": ".py",
   "mimetype": "text/x-python",
   "name": "python",
   "nbconvert_exporter": "python",
   "pygments_lexer": "ipython3",
   "version": "3.10.14"
  }
 },
 "nbformat": 4,
 "nbformat_minor": 5
}
