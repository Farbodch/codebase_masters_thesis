{
 "cells": [
  {
   "cell_type": "code",
   "execution_count": 1,
   "id": "473a916d",
   "metadata": {},
   "outputs": [],
   "source": [
    "import pytest\n",
    "from utils.other_utils import flipStr, directBinStrSum, getIndexSuperset, getIndexSubsets, getIndexComplement, getSingletonIndexAsInt\n",
    "from utils.other_utils import get_x_boundary_indices_on_1D_FEM_mesh, generate_xdmf_from_dot_msh, generate_2D_mesh\n",
    "\n",
    "def test_flipStr():\n",
    "    test_str = '123'\n",
    "    assert flipStr(test_str) == '321'\n",
    "\n",
    "    test_str = '101'\n",
    "    assert flipStr(test_str) == '101'\n",
    "\n",
    "    test_str = '1010'\n",
    "    assert flipStr(test_str) == '0101'\n",
    "\n",
    "    test_str = 101\n",
    "    with pytest.raises(ValueError):\n",
    "        flipStr(test_str)"
   ]
  },
  {
   "cell_type": "code",
   "execution_count": 2,
   "id": "1278580c",
   "metadata": {},
   "outputs": [
    {
     "name": "stdout",
     "output_type": "stream",
     "text": [
      "True\n"
     ]
    }
   ],
   "source": [
    "import pkg_resources\n",
    "installed = [pkg.key for pkg in pkg_resources.working_set]\n",
    "print(\"pandas\" in installed)  "
   ]
  },
  {
   "cell_type": "code",
   "execution_count": 6,
   "id": "974495ae",
   "metadata": {},
   "outputs": [
    {
     "data": {
      "text/plain": [
       "'011'"
      ]
     },
     "execution_count": 6,
     "metadata": {},
     "output_type": "execute_result"
    }
   ],
   "source": [
    "import numpy as np\n",
    "np.binary_repr(3,3)"
   ]
  },
  {
   "cell_type": "code",
   "execution_count": null,
   "id": "55678ced",
   "metadata": {},
   "outputs": [],
   "source": []
  }
 ],
 "metadata": {
  "kernelspec": {
   "display_name": "env1",
   "language": "python",
   "name": "python3"
  },
  "language_info": {
   "codemirror_mode": {
    "name": "ipython",
    "version": 3
   },
   "file_extension": ".py",
   "mimetype": "text/x-python",
   "name": "python",
   "nbconvert_exporter": "python",
   "pygments_lexer": "ipython3",
   "version": "3.11.10"
  }
 },
 "nbformat": 4,
 "nbformat_minor": 5
}
